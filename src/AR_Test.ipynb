{
 "cells": [
  {
   "cell_type": "code",
   "execution_count": 1,
   "metadata": {},
   "outputs": [
    {
     "data": {
      "text/plain": [
       "<spacy.lang.en.English at 0x17d15daeb80>"
      ]
     },
     "execution_count": 1,
     "metadata": {},
     "output_type": "execute_result"
    }
   ],
   "source": [
    "import spacy\n",
    "import neuralcoref\n",
    "\n",
    "nlp = spacy.load(\"en_core_web_sm\")\n",
    "nlp.add_pipe(nlp.create_pipe('sentencizer'))\n",
    "# Add neural coref to SpaCy's pipe\n",
    "neuralcoref.add_to_pipe(nlp)"
   ]
  },
  {
   "cell_type": "code",
   "execution_count": 2,
   "id": "3ac035e7",
   "metadata": {},
   "outputs": [],
   "source": [
    "class AnaphoraResolutionHelper():\n",
    "    def arReplacement(self , doc):\n",
    "        #輸入短句 doc ，替換詞\n",
    "        #print(doc)\n",
    "        _str= doc.text\n",
    "        clusters = doc._.coref_clusters\n",
    "        for cluster in clusters:\n",
    "            mainWord = cluster.main.text #主詞\n",
    "            for word in cluster:\n",
    "                print(\"替代\",word.text , \"主詞 \",mainWord , \"找到? \", _str.find(mainWord))   #替換代詞\n",
    "                #取代所有格\n",
    "                if word.root.dep_==\"poss\":                    \n",
    "                    _str = _str.replace(word.text,mainWord+\"'s\" , 1)\n",
    "                #取代代名詞\n",
    "                else:\n",
    "                    _str = _str.replace(word.text,mainWord , 1)\n",
    "                \n",
    "                \n",
    "            #token_start = doc.text.find()\n",
    "            \n",
    "        #print(_str)\n",
    "        #doc.text = _str;\n",
    "        doc._.referedSents=_str;\n",
    "        return doc\n",
    "   "
   ]
  },
  {
   "cell_type": "code",
   "execution_count": 14,
   "id": "6b198239",
   "metadata": {},
   "outputs": [
    {
     "name": "stdout",
     "output_type": "stream",
     "text": [
      "has cor  True\n",
      "clusters  [Rihanna: [Rihanna, Rihanna, Rihanna, Rihanna, Rihanna, Rihanna, Rihanna]]\n",
      "resolved  Rihanna is basically master of the fashion universe right now, so we're naturally going to pay attention to what trends Rihanna is and isn't wearing whenever Rihanna steps out of the door (or black SUV). Rihanna's having quite the epic week, first presenting Rihanna Savage x Fenty lingerie runway show then hosting Rihanna annual Diamond Ball charity event last night. Rihanna was decked out in Givenchy for the big event, but upon arrival at the venue, Rihanna wore a T-shirt, diamonds (naturally), and a scarf, leather pants, and heels in fall's biggest color trend: pistachio green.\n",
      "clusters  [Rihanna, Rihanna, Rihanna, Rihanna, Rihanna, Rihanna, Rihanna]\n",
      "span None\n"
     ]
    }
   ],
   "source": [
    "#text=\"Guido van Rossum began working on Python in the late 1980s as a successor to the ABC programming language and first released it in 1991 as Python 0.9.0.\"  \n",
    "#text='The series takes place in the near future and focuses on protagonists Kazuto \"Kirito\" Kirigaya and Asuna Yuuki as they play through various virtual reality MMORPG worlds.'\n",
    "text=\"Rihanna is basically master of the fashion universe right now, so we're naturally going to pay attention to what trends Rihanna is and isn't wearing whenever Rihanna steps out of the door (or black SUV). Rihanna's having quite the epic week, first presenting Rihanna Savage x Fenty lingerie runway show then hosting Rihanna annual Diamond Ball charity event last night. Rihanna was decked out in Givenchy for the big event, but upon arrival at the venue, Rihanna wore a T-shirt, diamonds (naturally), and a scarf, leather pants, and heels in fall's biggest color trend: pistachio green.\"\n",
    "doc = nlp(text)\n",
    "\n",
    "print(\"has cor \",doc._.has_coref)\n",
    "print(\"clusters \",doc._.coref_clusters)\n",
    "print('resolved ',doc._.coref_resolved)\n",
    "\n",
    "print(\"clusters \",doc._.coref_clusters[0].mentions)\n",
    "#span = doc[-1:]\n",
    "print(\"span\",span._.coref_cluster)\n"
   ]
  }
 ],
 "metadata": {
  "kernelspec": {
   "display_name": "Python 3.8.13 ('Spacy3_8')",
   "language": "python",
   "name": "python3"
  },
  "language_info": {
   "codemirror_mode": {
    "name": "ipython",
    "version": 3
   },
   "file_extension": ".py",
   "mimetype": "text/x-python",
   "name": "python",
   "nbconvert_exporter": "python",
   "pygments_lexer": "ipython3",
   "version": "3.8.13"
  },
  "vscode": {
   "interpreter": {
    "hash": "9aea1bdd2977b3045576a4fc00115506086c49e60ad51678854767dbae2b2694"
   }
  }
 },
 "nbformat": 4,
 "nbformat_minor": 5
}
