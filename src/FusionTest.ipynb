{
 "cells": [
  {
   "cell_type": "code",
   "execution_count": 7,
   "metadata": {},
   "outputs": [],
   "source": [
    "from Main import setupNlp\n",
    "from Main import doProcess\n",
    "import spacy\n",
    "nlp = spacy.load(\"en_core_web_sm\")   \n",
    "setupNlp(nlp)\n",
    "MAX_IT=2\n",
    "#doProcess(\"Sword_Art_Online\",MAX_IT);\n"
   ]
  },
  {
   "cell_type": "code",
   "execution_count": 8,
   "metadata": {},
   "outputs": [
    {
     "ename": "ValueError",
     "evalue": "[E001] No component 'neuralcoref' found in pipeline. Available names: ['tagger', 'parser', 'ner']",
     "output_type": "error",
     "traceback": [
      "\u001b[1;31m---------------------------------------------------------------------------\u001b[0m",
      "\u001b[1;31mValueError\u001b[0m                                Traceback (most recent call last)",
      "\u001b[1;32md:\\Work\\NUTC_gdb\\src\\FusionTest.ipynb Cell 2\u001b[0m in \u001b[0;36m<cell line: 1>\u001b[1;34m()\u001b[0m\n\u001b[1;32m----> <a href='vscode-notebook-cell:/d%3A/Work/NUTC_gdb/src/FusionTest.ipynb#W1sZmlsZQ%3D%3D?line=0'>1</a>\u001b[0m doProcess(\u001b[39m\"\u001b[39;49m\u001b[39mPython_(programming_language)\u001b[39;49m\u001b[39m\"\u001b[39;49m,MAX_IT,\u001b[39mTrue\u001b[39;49;00m)\n",
      "File \u001b[1;32md:\\Work\\NUTC_gdb\\src\\Main.py:141\u001b[0m, in \u001b[0;36mdoProcess\u001b[1;34m(pageTitle, itLeft, writeDB)\u001b[0m\n\u001b[0;32m    139\u001b[0m tc\u001b[39m=\u001b[39mtextCleaner(text)\n\u001b[0;32m    140\u001b[0m cleanText \u001b[39m=\u001b[39m tc\u001b[39m.\u001b[39mcleanText(text);\n\u001b[1;32m--> 141\u001b[0m nodes \u001b[39m=\u001b[39m main(cleanText,\u001b[39m0.1\u001b[39;49m)\n\u001b[0;32m    143\u001b[0m \u001b[39m#TODO: Fusion比對\u001b[39;00m\n\u001b[0;32m    144\u001b[0m max_imp\u001b[39m=\u001b[39m\u001b[39m0\u001b[39m\n",
      "File \u001b[1;32md:\\Work\\NUTC_gdb\\src\\Main.py:49\u001b[0m, in \u001b[0;36mmain\u001b[1;34m(_cleanText, preserveRate)\u001b[0m\n\u001b[0;32m     42\u001b[0m cleanedText \u001b[39m=\u001b[39m _cleanText\n\u001b[0;32m     43\u001b[0m \u001b[39m#cleanParas= tc.cleanParagraphs()\u001b[39;00m\n\u001b[0;32m     44\u001b[0m \n\u001b[0;32m     45\u001b[0m \u001b[39m#---------- 斷句 --------------\u001b[39;00m\n\u001b[0;32m     46\u001b[0m \n\u001b[0;32m     47\u001b[0m \u001b[39m#--------- 合併斷句 ------------\u001b[39;00m\n\u001b[1;32m---> 49\u001b[0m disabled \u001b[39m=\u001b[39m nlp\u001b[39m.\u001b[39;49mdisable_pipes([\u001b[39m\"\u001b[39;49m\u001b[39mneuralcoref\u001b[39;49m\u001b[39m\"\u001b[39;49m,\u001b[39m\"\u001b[39;49m\u001b[39marReplacement\u001b[39;49m\u001b[39m\"\u001b[39;49m]);\n\u001b[0;32m     50\u001b[0m doc\u001b[39m=\u001b[39m nlp(cleanedText)    \n\u001b[0;32m     51\u001b[0m disabled\u001b[39m.\u001b[39mrestore()\n",
      "File \u001b[1;32mc:\\Users\\User\\anaconda3\\envs\\Spacy3_8\\lib\\site-packages\\spacy\\language.py:460\u001b[0m, in \u001b[0;36mLanguage.disable_pipes\u001b[1;34m(self, *names)\u001b[0m\n\u001b[0;32m    458\u001b[0m \u001b[39mif\u001b[39;00m \u001b[39mlen\u001b[39m(names) \u001b[39m==\u001b[39m \u001b[39m1\u001b[39m \u001b[39mand\u001b[39;00m \u001b[39misinstance\u001b[39m(names[\u001b[39m0\u001b[39m], (\u001b[39mlist\u001b[39m, \u001b[39mtuple\u001b[39m)):\n\u001b[0;32m    459\u001b[0m     names \u001b[39m=\u001b[39m names[\u001b[39m0\u001b[39m]  \u001b[39m# support list of names instead of spread\u001b[39;00m\n\u001b[1;32m--> 460\u001b[0m \u001b[39mreturn\u001b[39;00m DisabledPipes(\u001b[39mself\u001b[39;49m, \u001b[39m*\u001b[39;49mnames)\n",
      "File \u001b[1;32mc:\\Users\\User\\anaconda3\\envs\\Spacy3_8\\lib\\site-packages\\spacy\\language.py:1124\u001b[0m, in \u001b[0;36mDisabledPipes.__init__\u001b[1;34m(self, nlp, *names)\u001b[0m\n\u001b[0;32m   1122\u001b[0m \u001b[39mself\u001b[39m\u001b[39m.\u001b[39moriginal_pipeline \u001b[39m=\u001b[39m copy(nlp\u001b[39m.\u001b[39mpipeline)\n\u001b[0;32m   1123\u001b[0m \u001b[39mlist\u001b[39m\u001b[39m.\u001b[39m\u001b[39m__init__\u001b[39m(\u001b[39mself\u001b[39m)\n\u001b[1;32m-> 1124\u001b[0m \u001b[39mself\u001b[39;49m\u001b[39m.\u001b[39;49mextend(nlp\u001b[39m.\u001b[39;49mremove_pipe(name) \u001b[39mfor\u001b[39;49;00m name \u001b[39min\u001b[39;49;00m names)\n",
      "File \u001b[1;32mc:\\Users\\User\\anaconda3\\envs\\Spacy3_8\\lib\\site-packages\\spacy\\language.py:1124\u001b[0m, in \u001b[0;36m<genexpr>\u001b[1;34m(.0)\u001b[0m\n\u001b[0;32m   1122\u001b[0m \u001b[39mself\u001b[39m\u001b[39m.\u001b[39moriginal_pipeline \u001b[39m=\u001b[39m copy(nlp\u001b[39m.\u001b[39mpipeline)\n\u001b[0;32m   1123\u001b[0m \u001b[39mlist\u001b[39m\u001b[39m.\u001b[39m\u001b[39m__init__\u001b[39m(\u001b[39mself\u001b[39m)\n\u001b[1;32m-> 1124\u001b[0m \u001b[39mself\u001b[39m\u001b[39m.\u001b[39mextend(nlp\u001b[39m.\u001b[39;49mremove_pipe(name) \u001b[39mfor\u001b[39;00m name \u001b[39min\u001b[39;00m names)\n",
      "File \u001b[1;32mc:\\Users\\User\\anaconda3\\envs\\Spacy3_8\\lib\\site-packages\\spacy\\language.py:418\u001b[0m, in \u001b[0;36mLanguage.remove_pipe\u001b[1;34m(self, name)\u001b[0m\n\u001b[0;32m    410\u001b[0m \u001b[39m\"\"\"Remove a component from the pipeline.\u001b[39;00m\n\u001b[0;32m    411\u001b[0m \n\u001b[0;32m    412\u001b[0m \u001b[39mname (unicode): Name of the component to remove.\u001b[39;00m\n\u001b[1;32m   (...)\u001b[0m\n\u001b[0;32m    415\u001b[0m \u001b[39mDOCS: https://spacy.io/api/language#remove_pipe\u001b[39;00m\n\u001b[0;32m    416\u001b[0m \u001b[39m\"\"\"\u001b[39;00m\n\u001b[0;32m    417\u001b[0m \u001b[39mif\u001b[39;00m name \u001b[39mnot\u001b[39;00m \u001b[39min\u001b[39;00m \u001b[39mself\u001b[39m\u001b[39m.\u001b[39mpipe_names:\n\u001b[1;32m--> 418\u001b[0m     \u001b[39mraise\u001b[39;00m \u001b[39mValueError\u001b[39;00m(Errors\u001b[39m.\u001b[39mE001\u001b[39m.\u001b[39mformat(name\u001b[39m=\u001b[39mname, opts\u001b[39m=\u001b[39m\u001b[39mself\u001b[39m\u001b[39m.\u001b[39mpipe_names))\n\u001b[0;32m    419\u001b[0m removed \u001b[39m=\u001b[39m \u001b[39mself\u001b[39m\u001b[39m.\u001b[39mpipeline\u001b[39m.\u001b[39mpop(\u001b[39mself\u001b[39m\u001b[39m.\u001b[39mpipe_names\u001b[39m.\u001b[39mindex(name))\n\u001b[0;32m    420\u001b[0m \u001b[39mif\u001b[39;00m ENABLE_PIPELINE_ANALYSIS:\n",
      "\u001b[1;31mValueError\u001b[0m: [E001] No component 'neuralcoref' found in pipeline. Available names: ['tagger', 'parser', 'ner']"
     ]
    }
   ],
   "source": [
    "doProcess(\"Python_(programming_language)\",MAX_IT,True);"
   ]
  }
 ],
 "metadata": {
  "kernelspec": {
   "display_name": "Python 3.8.13 ('Spacy3_8')",
   "language": "python",
   "name": "python3"
  },
  "language_info": {
   "codemirror_mode": {
    "name": "ipython",
    "version": 3
   },
   "file_extension": ".py",
   "mimetype": "text/x-python",
   "name": "python",
   "nbconvert_exporter": "python",
   "pygments_lexer": "ipython3",
   "version": "3.8.13"
  },
  "orig_nbformat": 4,
  "vscode": {
   "interpreter": {
    "hash": "9aea1bdd2977b3045576a4fc00115506086c49e60ad51678854767dbae2b2694"
   }
  }
 },
 "nbformat": 4,
 "nbformat_minor": 2
}
