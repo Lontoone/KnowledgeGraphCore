{
 "cells": [
  {
   "cell_type": "code",
   "execution_count": 2,
   "id": "30959f69",
   "metadata": {},
   "outputs": [],
   "source": [
    "from spacy.tokens import Doc\n",
    "from ARHelper import AnaphoraResolutionHelper\n",
    "from Id_tdfHelper import idfHelper\n",
    "from LsaHelper import LsaHelper\n",
    "from Neo4jHelper import Neo4JHelper\n",
    "from NodePair import Node, NodePair, NodeSpliter\n",
    "from SBDHelper import SbdHelper\n",
    "from TextCleaner import textCleaner\n",
    "from WikiHelper import wikiHelper\n",
    "import spacy\n",
    "import numpy as np\n",
    "import neuralcoref\n",
    "from spacy.matcher import Matcher\n",
    "_nlp = spacy.load(\"en_core_web_sm\")"
   ]
  },
  {
   "cell_type": "code",
   "execution_count": 3,
   "id": "0b335ac4",
   "metadata": {},
   "outputs": [
    {
     "name": "stdout",
     "output_type": "stream",
     "text": [
      "True\n"
     ]
    }
   ],
   "source": [
    "\n",
    "def setupNLP(nlp):\n",
    "    nlp_tc, nlp_ar = nlp,nlp\n",
    "    nlp_tc.add_pipe(nlp.create_pipe('sentencizer'))\n",
    "    #--------- 合併斷句 ------------\n",
    "    sbd= SbdHelper()\n",
    "    Doc.set_extension(\"briefSents\" , default=None , force=True)\n",
    "    nlp_tc.add_pipe(sbd.briefSbd, after=\"sentencizer\",name=\"sbd\")\n",
    "    \n",
    "    print(nlp_tc == nlp_ar)\n",
    "    \n",
    "    \n",
    "setupNLP(_nlp)"
   ]
  },
  {
   "cell_type": "code",
   "execution_count": 4,
   "id": "3a42a12a",
   "metadata": {},
   "outputs": [
    {
     "ename": "AttributeError",
     "evalue": "'English' object has no attribute 'copy'",
     "output_type": "error",
     "traceback": [
      "\u001b[1;31m---------------------------------------------------------------------------\u001b[0m",
      "\u001b[1;31mAttributeError\u001b[0m                            Traceback (most recent call last)",
      "Input \u001b[1;32mIn [4]\u001b[0m, in \u001b[0;36m<cell line: 1>\u001b[1;34m()\u001b[0m\n\u001b[1;32m----> 1\u001b[0m \u001b[43m_nlp\u001b[49m\u001b[38;5;241;43m.\u001b[39;49m\u001b[43mcopy\u001b[49m()\n",
      "\u001b[1;31mAttributeError\u001b[0m: 'English' object has no attribute 'copy'"
     ]
    }
   ],
   "source": [
    "_nlp.copy()"
   ]
  },
  {
   "cell_type": "code",
   "execution_count": null,
   "id": "39b05fef",
   "metadata": {},
   "outputs": [],
   "source": []
  }
 ],
 "metadata": {
  "kernelspec": {
   "display_name": "Python 3 (ipykernel)",
   "language": "python",
   "name": "python3"
  },
  "language_info": {
   "codemirror_mode": {
    "name": "ipython",
    "version": 3
   },
   "file_extension": ".py",
   "mimetype": "text/x-python",
   "name": "python",
   "nbconvert_exporter": "python",
   "pygments_lexer": "ipython3",
   "version": "3.8.13"
  }
 },
 "nbformat": 4,
 "nbformat_minor": 5
}
