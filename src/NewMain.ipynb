{
 "cells": [
  {
   "cell_type": "code",
   "execution_count": 1,
   "id": "add529c0",
   "metadata": {},
   "outputs": [],
   "source": [
    "class NodePair:    \n",
    "    def __init__(self,node1,node2,relation):\n",
    "        self.entity1=node1\n",
    "        self.entity2=node2\n",
    "        self.relation=relation\n",
    "        self.coVector={}\n",
    "        #self.sent = node1+relation+node2\n",
    "        \n",
    "        \n",
    "class Node:\n",
    "    def __init__(self,name,verb=\"\"):\n",
    "        self.name=name\n",
    "        self.verb=verb\n",
    "          \n",
    "        \n",
    "\n",
    "class NodeSpliter:\n",
    "    def __init__(self,chunks) :\n",
    "        self.chunks= chunks\n",
    "        self.pairs=[]\n",
    "        self.words_count_dict={}#紀錄 <字,字數>的字典 \n",
    "    \n",
    "    def split(self):\n",
    "        if len(self.chunks)<1:\n",
    "            return\n",
    "        \n",
    "        self.mainSubject= self.chunks[0].lemma_\n",
    "        self.rootVerb=\"\"\n",
    "        self.nounBuffer=\"\"\n",
    "        _nextIndex=0\n",
    "        for i in range(1,len(self.chunks)):\n",
    "            if i<_nextIndex:\n",
    "                continue\n",
    "            \n",
    "            c= self.chunks[i]\n",
    "            #----------- 找Obj-------------            \n",
    "            object_noun ,end = self.findNounRange(self.chunks[i:])\n",
    "            \n",
    "            #----------- 找relation-------------            \n",
    "            obj_chunk=self.chunks[min(i+end ,len(self.chunks)-1)] #用obj所屬的chunk的動詞決定   \n",
    "            for j_chunks in self.chunks[i:]:                \n",
    "                if j_chunks.root.head.pos_  in ['AUX',\"VERB\",\"ADP\",\"SCONJ\"]:\n",
    "                    if j_chunks.root.head.dep_ not in [\"pcomp\" , \"acl\",'advcl']:\n",
    "                        #self.rootVerb=j_chunks.root.head.lemma_\n",
    "                        self.rootVerb=j_chunks.root.head.lower_\n",
    "                        break\n",
    "                            \n",
    "            \n",
    "            #組合node\n",
    "            subjectNode = Node(self.mainSubject)\n",
    "            objectNode = Node(object_noun)\n",
    "            self.pairs.append(NodePair(subjectNode,objectNode,self.rootVerb))\n",
    "            \n",
    "            # 重置\n",
    "            self.mainSubject=self.nounBuffer\n",
    "            self.rootVerb=\"\"\n",
    "            self.nounBuffer=\"\"\n",
    "            _nextIndex=i+end+1\n",
    "            \n",
    "        _allCount = len(self.pairs)\n",
    "        self.pairs= list(filter(lambda p : p.relation!=\"\",self.pairs))\n",
    "        print(\"減去空白關聯\",_allCount - len(self.pairs),\"個\")\n",
    "        return self.pairs\n",
    "        \n",
    "    \n",
    "  \n",
    "    def findNounRange(self,chunks):\n",
    "        #self.nounBuffer=\"\"\n",
    "        if len(chunks)==1:\n",
    "           return chunks[0].lemma_ , len(self.chunks)\n",
    "       \n",
    "        endIndex=0\n",
    "        j=0\n",
    "        while j <len(chunks): \n",
    "            print(\"find noun range \", self.nounBuffer) \n",
    "            c=chunks[j]\n",
    "            #direct object或PROPN(專有名詞) =>結束\n",
    "            _text=c.lemma_\n",
    "            #_text=c.lower_\n",
    "            print(\"current chunks \", _text) \n",
    "            if c.root.dep_ in [\"dobj\",\"nsubj\",'attr'] or c.root.pos_ in [\"PROPN\"]:            \n",
    "                #self.nounBuffer+=chunks[j].lemma_+\" \"\n",
    "                # ====== 判斷head是否為形容詞 =======\n",
    "                if c.root.head.dep_ in [\"pcomp\",'advcl']: #後綴用\n",
    "                    self.nounBuffer= self.nounBuffer+\" \"+ _text +\" \" + c.root.head.text\n",
    "                elif c.root.head.dep_ in [\"acl\",\"prep\"]: #前綴用\n",
    "                    self.nounBuffer=  self.nounBuffer+c.root.head.text+\" \"+_text\n",
    "                else:\n",
    "                    self.nounBuffer+=_text\n",
    "                \n",
    "                endIndex=j\n",
    "                print(\"== dobj end ==\",self.nounBuffer)\n",
    "                return self.nounBuffer , endIndex\n",
    "                break\n",
    "            \n",
    "            elif c.root.dep_ ==\"pobj\":\n",
    "                self.nounBuffer =_text+\" \"+self.nounBuffer               \n",
    "            print()\n",
    "           \n",
    "            j+=1\n",
    "        endIndex=j\n",
    "        print('找到obj: ',self.nounBuffer)\n",
    "        return self.nounBuffer , endIndex\n",
    "\n",
    "def pairs_trim(pairs):\n",
    "        result_pairs= pairs.copy()\n",
    "        for i in range(0,len(pairs)):\n",
    "            for j in range(i+1,len(pairs)):\n",
    "                sent1=pairs[i].entity1.name\n",
    "                sent2=pairs[j].entity1.name\n",
    "                sents=[sent1,sent2]\n",
    "                #依照長度排a,b\n",
    "                a,b= min(sents,key=len),max(sents,key=len)\n",
    "                isOrdered= ([a,b]==sents)\n",
    "                #計算a(短的)占比b中多少字\n",
    "                b_wordCount= max(len(b.split()),1)\n",
    "                sim= b.count(a) / b_wordCount\n",
    "                print(a,b,sim)                \n",
    "                \n",
    "                if sim==1:\n",
    "                    continue;\n",
    "                elif sim>0.8:#幾乎重複\n",
    "                    result_pairs.remove(pairs[i])\n",
    "                    result_pairs.remove(pairs[j])\n",
    "                    print(\" [刪除] 幾乎重複的node \", sent1, sent2)\n",
    "                elif sim>0.65:\n",
    "                    #建立關聯\n",
    "                    if isOrdered: #短的在前\n",
    "                        newPair=NodePair(Node(sent1),Node(sent2),\"about\")\n",
    "                    else:\n",
    "                        newPair=NodePair(Node(sent2),Node(sent1),\"about\")\n",
    "                        \n",
    "                    print(\" [新增] 新關聯 \", sent1, sent2)\n",
    "                    result_pairs.append(newPair)                    \n",
    "                pass\n",
    "            pass\n",
    "        return result_pairs\n",
    "        pass\n",
    "    \n",
    "    "
   ]
  },
  {
   "cell_type": "code",
   "execution_count": 2,
   "id": "30959f69",
   "metadata": {},
   "outputs": [],
   "source": [
    "from spacy.tokens import Doc\n",
    "from ARHelper import AnaphoraResolutionHelper\n",
    "from Id_tdfHelper import idfHelper\n",
    "from LsaHelper import LsaHelper\n",
    "#from Neo4jHelper import Neo4JHelper\n",
    "#from NodePair import Node, NodePair, NodeSpliter\n",
    "from SBDHelper import SbdHelper\n",
    "from TextCleaner import textCleaner\n",
    "from WikiHelper import wikiHelper\n",
    "import spacy\n",
    "import numpy as np\n",
    "import neuralcoref\n",
    "import matplotlib.pyplot as plt\n",
    "from spacy.matcher import Matcher\n",
    "nlp = spacy.load(\"en_core_web_sm\")"
   ]
  },
  {
   "cell_type": "code",
   "execution_count": 3,
   "id": "0b335ac4",
   "metadata": {},
   "outputs": [
    {
     "name": "stdout",
     "output_type": "stream",
     "text": [
      "True\n"
     ]
    }
   ],
   "source": [
    "\n",
    "def setupNLP(nlp):\n",
    "    nlp_tc, nlp_ar = nlp,nlp\n",
    "    nlp_tc.add_pipe(nlp.create_pipe('sentencizer'))\n",
    "    #--------- 合併斷句 ------------\n",
    "    sbd= SbdHelper()\n",
    "    Doc.set_extension(\"briefSents\" , default=None , force=True)\n",
    "    nlp_tc.add_pipe(sbd.briefSbd, after=\"sentencizer\",name=\"sbd\")\n",
    "    \n",
    "    print(nlp_tc == nlp_ar)\n",
    "    \n",
    "    \n",
    "setupNLP(nlp)\n",
    "disabled = nlp.disable_pipes([\"sentencizer\",\"sbd\",]);\n",
    "nlp_full = nlp"
   ]
  },
  {
   "cell_type": "code",
   "execution_count": null,
   "id": "7d856c05",
   "metadata": {},
   "outputs": [],
   "source": []
  },
  {
   "cell_type": "code",
   "execution_count": 9,
   "id": "3a42a12a",
   "metadata": {},
   "outputs": [
    {
     "name": "stdout",
     "output_type": "stream",
     "text": [
      "減去空白關聯 0 個\n",
      "Python -> [ is ] -> a high - level , general - purpose programming language\n"
     ]
    }
   ],
   "source": [
    "wiki = wikiHelper()\n",
    "#text= wiki.GetLocalPage(\"Sword_Art_Online\")\n",
    "#text=\"In October 2006, 18 months after posting YouTube's first video and 10 months after YouTube's official launch, YouTube was bought by Google for $1.65 billion.\"\n",
    "#text='The series takes place in the near future and focuses on protagonists Kazuto \"Kirito\" Kirigaya and Asuna Yuuki as they play through various virtual reality MMORPG worlds.'\n",
    "#text=\"YouTube also approved creators to participate in Google's AdSense program, which seeks to generate more revenue for both parties.\"\n",
    "#text=\"Difficulty in finding enough dating videos led to a change of plans, with the site's founders deciding to accept uploads of any type of video.\"\n",
    "#text ='Wang signed as an amateur free agent with the Yankees in 2000.'\n",
    "#text =\"Python is often described as a 'batteries included' language due to Python's comprehensive standard library.\"\n",
    "text=\"Python is a high-level, general-purpose programming language.\"\n",
    "#text=\"The first eight volumes of the light novel series told the story arcs for Sword Art Online, Alfheim Online, and Gun Gale Online.\"\n",
    "#text='Pygame was originally written by Pete Shinners to replace PySDL after its development stalled.'\n",
    "#text=\"Pygame is a cross-platform set of Python modules designed for writing video games.\"\n",
    "#text=\"Pygame is a cross-platform set of Python modules designed for writing video games. Pygame was originally written by Pete Shinners to replace PySDL after its development stalled.\"\n",
    "\n",
    "doc = nlp_full(text)\n",
    "nuns=list(doc.noun_chunks)\n",
    "        \n",
    "spliter=NodeSpliter(nuns) #合併noun chunks\n",
    "pairs=spliter.split()\n",
    "pairs = pairs_trim(pairs)\n",
    "for pair in pairs:\n",
    "    #print(pair.entity1.name)\n",
    "    print(pair.entity1.name,\"-> [\",pair.relation,\"] ->\",pair.entity2.name) \n"
   ]
  },
  {
   "cell_type": "code",
   "execution_count": 10,
   "id": "4f96eb4e",
   "metadata": {},
   "outputs": [
    {
     "name": "stdout",
     "output_type": "stream",
     "text": [
      "Python Python nsubj is\n",
      "a high-level, general-purpose programming language language attr is\n"
     ]
    },
    {
     "data": {
      "image/png": "[encoded data removed]",
      "text/plain": [
       "<Figure size 640x480 with 1 Axes>"
      ]
     },
     "metadata": {},
     "output_type": "display_data"
    }
   ],
   "source": [
    "#noun chunk表\n",
    "for chunk in doc.noun_chunks:\n",
    "    print(chunk.text, chunk.root.text, chunk.root.dep_,\n",
    "            chunk.root.head.text)\n",
    "    \n",
    "fig, ax = plt.subplots()\n",
    "rows=['chunk.root.text','chunk.root.dep_','root.pose','root.head.pos','root head.dep','chunk.root.head.text','chunks.lemma']\n",
    "cell=[\n",
    "        [t.root.text for t in doc.noun_chunks],\n",
    "        [t.root.dep_ for t in doc.noun_chunks],\n",
    "        [t.root.pos_ for t in doc.noun_chunks],\n",
    "        [t.root.head.pos_ for t in doc.noun_chunks],\n",
    "        [t.root.head.dep_ for t in doc.noun_chunks],\n",
    "        [t.root.head.text for t in doc.noun_chunks],\n",
    "        [t.lemma_ for t in doc.noun_chunks]\n",
    "]\n",
    "ax.axis(\"off\")\n",
    "table = plt.table(\n",
    "        cellText=np.array(cell).T.tolist() ,\n",
    "        colLabels= rows,\n",
    "        rowLabels=[t.text for t in doc.noun_chunks],\n",
    "        cellLoc='center',\n",
    "        loc='center'\n",
    ")\n",
    "table.auto_set_font_size(False)\n",
    "table.set_fontsize(8)\n",
    "table.auto_set_column_width(col=list(range(len(cell)))) \n",
    "\n",
    "table.scale(6,2)"
   ]
  },
  {
   "cell_type": "code",
   "execution_count": 11,
   "id": "39b05fef",
   "metadata": {},
   "outputs": [
    {
     "name": "stdout",
     "output_type": "stream",
     "text": [
      "Python nsubj is AUX []\n",
      "is ROOT is AUX [Python, language, .]\n",
      "a det language NOUN []\n",
      "high amod level NOUN []\n",
      "- punct level NOUN []\n",
      "level nmod language NOUN [high, -]\n",
      ", punct language NOUN []\n",
      "general amod purpose NOUN []\n",
      "- punct purpose NOUN []\n",
      "purpose compound programming NOUN [general, -]\n",
      "programming compound language NOUN [purpose]\n",
      "language attr is AUX [a, level, ,, programming]\n",
      ". punct is AUX []\n"
     ]
    }
   ],
   "source": [
    "#查看 pos等資訊\n",
    "for token in doc:\n",
    "    print(token.text, token.dep_, token.head.text, token.head.pos_,\n",
    "            [child for child in token.children])\n"
   ]
  },
  {
   "cell_type": "code",
   "execution_count": 12,
   "id": "0d75877e",
   "metadata": {},
   "outputs": [
    {
     "data": {
      "text/plain": [
       "['nsubj',\n",
       " 'ROOT',\n",
       " 'det',\n",
       " 'amod',\n",
       " 'punct',\n",
       " 'nmod',\n",
       " 'punct',\n",
       " 'amod',\n",
       " 'punct',\n",
       " 'compound',\n",
       " 'compound',\n",
       " 'attr',\n",
       " 'punct']"
      ]
     },
     "execution_count": 12,
     "metadata": {},
     "output_type": "execute_result"
    }
   ],
   "source": [
    "[t.dep_ for t in doc]"
   ]
  },
  {
   "cell_type": "code",
   "execution_count": 13,
   "id": "b9d544a6",
   "metadata": {},
   "outputs": [
    {
     "data": {
      "image/png": "[encoded data removed]",
      "text/plain": [
       "<Figure size 640x480 with 1 Axes>"
      ]
     },
     "metadata": {},
     "output_type": "display_data"
    }
   ],
   "source": [
    "#pos , dep 表\n",
    "import matplotlib.pyplot as plt\n",
    "fig, ax = plt.subplots()\n",
    "rows=['dep','pos','head.dep','head.pos']\n",
    "cell=[\n",
    "        [t.dep_ for t in doc],\n",
    "        [t.pos_ for t in doc],\n",
    "        [t.head.dep_ for t in doc],\n",
    "        [t.head.pos_ for t in doc]\n",
    "]\n",
    "ax.axis(\"off\")\n",
    "table = plt.table(\n",
    "        cellText=cell ,\n",
    "        colLabels= [t.text for t in doc],\n",
    "        rowLabels=rows,\n",
    "        cellLoc='center',\n",
    "        loc='center'\n",
    ")\n",
    "table.auto_set_font_size(False)\n",
    "table.set_fontsize(8)\n",
    "table.auto_set_column_width(col=list(range(len(cell)))) \n",
    "\n",
    "table.scale(6,2)"
   ]
  },
  {
   "cell_type": "code",
   "execution_count": null,
   "id": "ae50e065",
   "metadata": {},
   "outputs": [],
   "source": []
  }
 ],
 "metadata": {
  "kernelspec": {
   "display_name": "Python 3.8.13 ('Spacy3_8')",
   "language": "python",
   "name": "python3"
  },
  "language_info": {
   "codemirror_mode": {
    "name": "ipython",
    "version": 3
   },
   "file_extension": ".py",
   "mimetype": "text/x-python",
   "name": "python",
   "nbconvert_exporter": "python",
   "pygments_lexer": "ipython3",
   "version": "3.8.13"
  },
  "vscode": {
   "interpreter": {
    "hash": "9aea1bdd2977b3045576a4fc00115506086c49e60ad51678854767dbae2b2694"
   }
  }
 },
 "nbformat": 4,
 "nbformat_minor": 5
}
